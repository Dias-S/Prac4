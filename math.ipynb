{
 "cells": [
  {
   "cell_type": "code",
   "execution_count": 2,
   "metadata": {},
   "outputs": [
    {
     "name": "stdout",
     "output_type": "stream",
     "text": [
      "0.26190400000499997\n"
     ]
    }
   ],
   "source": [
    "degree=(float(input(\"Enter degree: \")))\n",
    "\n",
    "Radian=degree*0.017460266667\n",
    "\n",
    "print(Radian)"
   ]
  },
  {
   "cell_type": "code",
   "execution_count": 4,
   "metadata": {},
   "outputs": [
    {
     "name": "stdout",
     "output_type": "stream",
     "text": [
      "Area of the parallelogram is 30.0\n"
     ]
    }
   ],
   "source": [
    "Base=(float(input(\"Enter length of the base: \")))\n",
    "Height=(float(input(\"Enter height of the parallelogram: \")))\n",
    "\n",
    "Area=Base * Height\n",
    "\n",
    "print(\"Area of the parallelogram is\", Area)"
   ]
  }
 ],
 "metadata": {
  "kernelspec": {
   "display_name": "Python 3",
   "language": "python",
   "name": "python3"
  },
  "language_info": {
   "codemirror_mode": {
    "name": "ipython",
    "version": 3
   },
   "file_extension": ".py",
   "mimetype": "text/x-python",
   "name": "python",
   "nbconvert_exporter": "python",
   "pygments_lexer": "ipython3",
   "version": "3.13.1"
  }
 },
 "nbformat": 4,
 "nbformat_minor": 2
}
